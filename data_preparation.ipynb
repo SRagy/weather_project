{
 "cells": [
  {
   "cell_type": "code",
   "execution_count": 1,
   "metadata": {},
   "outputs": [],
   "source": [
    "import pandas as pd\n",
    "import numpy as np\n",
    "import matplotlib.pyplot as plt\n",
    "from matplotlib.colors import LinearSegmentedColormap\n",
    "import geopandas as gpd\n",
    "import pandas as pd\n",
    "import rasterio\n",
    "from rasterio.plot import show\n",
    "import xarray as xr\n",
    "import rioxarray as rxr\n",
    "from shapely import Point, MultiPoint, wkt\n",
    "import regex as re\n",
    "import json\n",
    "from matplotlib.colors import ListedColormap, BoundaryNorm\n",
    "import pickle\n"
   ]
  },
  {
   "cell_type": "markdown",
   "metadata": {},
   "source": [
    "# Data Cleaning and Collation"
   ]
  },
  {
   "cell_type": "markdown",
   "metadata": {},
   "source": [
    "## Weather Data"
   ]
  },
  {
   "cell_type": "markdown",
   "metadata": {},
   "source": [
    "Load data into dataframe and exclude preciptation information. Then check how the dataframe looks."
   ]
  },
  {
   "cell_type": "code",
   "execution_count": 2,
   "metadata": {},
   "outputs": [
    {
     "data": {
      "text/html": [
       "<div>\n",
       "<style scoped>\n",
       "    .dataframe tbody tr th:only-of-type {\n",
       "        vertical-align: middle;\n",
       "    }\n",
       "\n",
       "    .dataframe tbody tr th {\n",
       "        vertical-align: top;\n",
       "    }\n",
       "\n",
       "    .dataframe thead th {\n",
       "        text-align: right;\n",
       "    }\n",
       "</style>\n",
       "<table border=\"1\" class=\"dataframe\">\n",
       "  <thead>\n",
       "    <tr style=\"text-align: right;\">\n",
       "      <th></th>\n",
       "      <th>Collected</th>\n",
       "      <th>Location</th>\n",
       "      <th>Type</th>\n",
       "      <th>2020-07-21</th>\n",
       "      <th>2020-07-22</th>\n",
       "      <th>2020-07-23</th>\n",
       "      <th>2020-07-24</th>\n",
       "      <th>2020-07-25</th>\n",
       "      <th>2020-07-26</th>\n",
       "      <th>2020-07-27</th>\n",
       "      <th>...</th>\n",
       "      <th>2020-08-22</th>\n",
       "      <th>2020-08-23</th>\n",
       "      <th>2020-08-24</th>\n",
       "      <th>2020-08-25</th>\n",
       "      <th>2020-08-26</th>\n",
       "      <th>2020-08-27</th>\n",
       "      <th>2020-08-28</th>\n",
       "      <th>2020-08-29</th>\n",
       "      <th>2020-08-30</th>\n",
       "      <th>2020-08-31</th>\n",
       "    </tr>\n",
       "  </thead>\n",
       "  <tbody>\n",
       "    <tr>\n",
       "      <th>0</th>\n",
       "      <td>2020-07-22 13:52:42.276127</td>\n",
       "      <td>Wellington</td>\n",
       "      <td>high</td>\n",
       "      <td>14.0</td>\n",
       "      <td>11.0</td>\n",
       "      <td>14.0</td>\n",
       "      <td>12.0</td>\n",
       "      <td>12.0</td>\n",
       "      <td>13.0</td>\n",
       "      <td>13.0</td>\n",
       "      <td>...</td>\n",
       "      <td>14.0</td>\n",
       "      <td>12.0</td>\n",
       "      <td>14.0</td>\n",
       "      <td>14.0</td>\n",
       "      <td>15.0</td>\n",
       "      <td>15.0</td>\n",
       "      <td>15.0</td>\n",
       "      <td>14.0</td>\n",
       "      <td>13.0</td>\n",
       "      <td>14</td>\n",
       "    </tr>\n",
       "    <tr>\n",
       "      <th>1</th>\n",
       "      <td>2020-07-22 13:52:42.276127</td>\n",
       "      <td>Wellington</td>\n",
       "      <td>low</td>\n",
       "      <td>11.0</td>\n",
       "      <td>7.0</td>\n",
       "      <td>7.0</td>\n",
       "      <td>6.0</td>\n",
       "      <td>7.0</td>\n",
       "      <td>8.0</td>\n",
       "      <td>8.0</td>\n",
       "      <td>...</td>\n",
       "      <td>7.0</td>\n",
       "      <td>7.0</td>\n",
       "      <td>9.0</td>\n",
       "      <td>9.0</td>\n",
       "      <td>9.0</td>\n",
       "      <td>9.0</td>\n",
       "      <td>7.0</td>\n",
       "      <td>7.0</td>\n",
       "      <td>8.0</td>\n",
       "      <td>7</td>\n",
       "    </tr>\n",
       "    <tr>\n",
       "      <th>3</th>\n",
       "      <td>2020-07-22 13:52:53.784032</td>\n",
       "      <td>Auckland</td>\n",
       "      <td>high</td>\n",
       "      <td>16.0</td>\n",
       "      <td>14.0</td>\n",
       "      <td>16.0</td>\n",
       "      <td>14.0</td>\n",
       "      <td>14.0</td>\n",
       "      <td>14.0</td>\n",
       "      <td>14.0</td>\n",
       "      <td>...</td>\n",
       "      <td>14.0</td>\n",
       "      <td>15.0</td>\n",
       "      <td>15.0</td>\n",
       "      <td>16.0</td>\n",
       "      <td>17.0</td>\n",
       "      <td>16.0</td>\n",
       "      <td>16.0</td>\n",
       "      <td>16.0</td>\n",
       "      <td>15.0</td>\n",
       "      <td>16</td>\n",
       "    </tr>\n",
       "    <tr>\n",
       "      <th>4</th>\n",
       "      <td>2020-07-22 13:52:53.784032</td>\n",
       "      <td>Auckland</td>\n",
       "      <td>low</td>\n",
       "      <td>10.0</td>\n",
       "      <td>10.0</td>\n",
       "      <td>10.0</td>\n",
       "      <td>8.0</td>\n",
       "      <td>7.0</td>\n",
       "      <td>7.0</td>\n",
       "      <td>9.0</td>\n",
       "      <td>...</td>\n",
       "      <td>10.0</td>\n",
       "      <td>10.0</td>\n",
       "      <td>11.0</td>\n",
       "      <td>11.0</td>\n",
       "      <td>10.0</td>\n",
       "      <td>11.0</td>\n",
       "      <td>9.0</td>\n",
       "      <td>10.0</td>\n",
       "      <td>11.0</td>\n",
       "      <td>10</td>\n",
       "    </tr>\n",
       "    <tr>\n",
       "      <th>6</th>\n",
       "      <td>2020-07-22 13:53:10.735065</td>\n",
       "      <td>Sydney</td>\n",
       "      <td>high</td>\n",
       "      <td>18.0</td>\n",
       "      <td>19.0</td>\n",
       "      <td>18.0</td>\n",
       "      <td>18.0</td>\n",
       "      <td>18.0</td>\n",
       "      <td>15.0</td>\n",
       "      <td>16.0</td>\n",
       "      <td>...</td>\n",
       "      <td>18.0</td>\n",
       "      <td>18.0</td>\n",
       "      <td>18.0</td>\n",
       "      <td>19.0</td>\n",
       "      <td>22.0</td>\n",
       "      <td>20.0</td>\n",
       "      <td>20.0</td>\n",
       "      <td>18.0</td>\n",
       "      <td>20.0</td>\n",
       "      <td>18</td>\n",
       "    </tr>\n",
       "  </tbody>\n",
       "</table>\n",
       "<p>5 rows × 45 columns</p>\n",
       "</div>"
      ],
      "text/plain": [
       "                    Collected    Location  Type  2020-07-21  2020-07-22  \\\n",
       "0  2020-07-22 13:52:42.276127  Wellington  high        14.0        11.0   \n",
       "1  2020-07-22 13:52:42.276127  Wellington   low        11.0         7.0   \n",
       "3  2020-07-22 13:52:53.784032    Auckland  high        16.0        14.0   \n",
       "4  2020-07-22 13:52:53.784032    Auckland   low        10.0        10.0   \n",
       "6  2020-07-22 13:53:10.735065      Sydney  high        18.0        19.0   \n",
       "\n",
       "   2020-07-23  2020-07-24  2020-07-25  2020-07-26  2020-07-27  ...  \\\n",
       "0        14.0        12.0        12.0        13.0        13.0  ...   \n",
       "1         7.0         6.0         7.0         8.0         8.0  ...   \n",
       "3        16.0        14.0        14.0        14.0        14.0  ...   \n",
       "4        10.0         8.0         7.0         7.0         9.0  ...   \n",
       "6        18.0        18.0        18.0        15.0        16.0  ...   \n",
       "\n",
       "   2020-08-22  2020-08-23  2020-08-24  2020-08-25  2020-08-26  2020-08-27  \\\n",
       "0        14.0        12.0        14.0        14.0        15.0        15.0   \n",
       "1         7.0         7.0         9.0         9.0         9.0         9.0   \n",
       "3        14.0        15.0        15.0        16.0        17.0        16.0   \n",
       "4        10.0        10.0        11.0        11.0        10.0        11.0   \n",
       "6        18.0        18.0        18.0        19.0        22.0        20.0   \n",
       "\n",
       "   2020-08-28  2020-08-29  2020-08-30  2020-08-31  \n",
       "0        15.0        14.0        13.0          14  \n",
       "1         7.0         7.0         8.0           7  \n",
       "3        16.0        16.0        15.0          16  \n",
       "4         9.0        10.0        11.0          10  \n",
       "6        20.0        18.0        20.0          18  \n",
       "\n",
       "[5 rows x 45 columns]"
      ]
     },
     "execution_count": 2,
     "metadata": {},
     "output_type": "execute_result"
    }
   ],
   "source": [
    "with open('data/weather_data.csv', 'r', encoding='latin1') as f:\n",
    "    weather_df=pd.read_csv(f)\n",
    "    \n",
    "filter = (weather_df['Type'] != 'precipitation')\n",
    "weather_df = weather_df[filter]\n",
    "weather_df.head()"
   ]
  },
  {
   "cell_type": "markdown",
   "metadata": {},
   "source": [
    "Reformat strings to datetime, and create multi-index for location, collection date and high/low temperatures."
   ]
  },
  {
   "cell_type": "code",
   "execution_count": 3,
   "metadata": {},
   "outputs": [
    {
     "data": {
      "text/html": [
       "<div>\n",
       "<style scoped>\n",
       "    .dataframe tbody tr th:only-of-type {\n",
       "        vertical-align: middle;\n",
       "    }\n",
       "\n",
       "    .dataframe tbody tr th {\n",
       "        vertical-align: top;\n",
       "    }\n",
       "\n",
       "    .dataframe thead th {\n",
       "        text-align: right;\n",
       "    }\n",
       "</style>\n",
       "<table border=\"1\" class=\"dataframe\">\n",
       "  <thead>\n",
       "    <tr style=\"text-align: right;\">\n",
       "      <th></th>\n",
       "      <th></th>\n",
       "      <th></th>\n",
       "      <th>2020-07-21</th>\n",
       "      <th>2020-07-22</th>\n",
       "      <th>2020-07-23</th>\n",
       "      <th>2020-07-24</th>\n",
       "      <th>2020-07-25</th>\n",
       "      <th>2020-07-26</th>\n",
       "      <th>2020-07-27</th>\n",
       "      <th>2020-07-28</th>\n",
       "      <th>2020-07-29</th>\n",
       "      <th>2020-07-30</th>\n",
       "      <th>...</th>\n",
       "      <th>2020-08-22</th>\n",
       "      <th>2020-08-23</th>\n",
       "      <th>2020-08-24</th>\n",
       "      <th>2020-08-25</th>\n",
       "      <th>2020-08-26</th>\n",
       "      <th>2020-08-27</th>\n",
       "      <th>2020-08-28</th>\n",
       "      <th>2020-08-29</th>\n",
       "      <th>2020-08-30</th>\n",
       "      <th>2020-08-31</th>\n",
       "    </tr>\n",
       "    <tr>\n",
       "      <th>Location</th>\n",
       "      <th>Collected</th>\n",
       "      <th>Type</th>\n",
       "      <th></th>\n",
       "      <th></th>\n",
       "      <th></th>\n",
       "      <th></th>\n",
       "      <th></th>\n",
       "      <th></th>\n",
       "      <th></th>\n",
       "      <th></th>\n",
       "      <th></th>\n",
       "      <th></th>\n",
       "      <th></th>\n",
       "      <th></th>\n",
       "      <th></th>\n",
       "      <th></th>\n",
       "      <th></th>\n",
       "      <th></th>\n",
       "      <th></th>\n",
       "      <th></th>\n",
       "      <th></th>\n",
       "      <th></th>\n",
       "      <th></th>\n",
       "    </tr>\n",
       "  </thead>\n",
       "  <tbody>\n",
       "    <tr>\n",
       "      <th rowspan=\"2\" valign=\"top\">Wellington</th>\n",
       "      <th rowspan=\"2\" valign=\"top\">2020-07-22</th>\n",
       "      <th>high</th>\n",
       "      <td>14.0</td>\n",
       "      <td>11.0</td>\n",
       "      <td>14.0</td>\n",
       "      <td>12.0</td>\n",
       "      <td>12.0</td>\n",
       "      <td>13.0</td>\n",
       "      <td>13.0</td>\n",
       "      <td>13.0</td>\n",
       "      <td>14.0</td>\n",
       "      <td>14.0</td>\n",
       "      <td>...</td>\n",
       "      <td>14.0</td>\n",
       "      <td>12.0</td>\n",
       "      <td>14.0</td>\n",
       "      <td>14.0</td>\n",
       "      <td>15.0</td>\n",
       "      <td>15.0</td>\n",
       "      <td>15.0</td>\n",
       "      <td>14.0</td>\n",
       "      <td>13.0</td>\n",
       "      <td>14</td>\n",
       "    </tr>\n",
       "    <tr>\n",
       "      <th>low</th>\n",
       "      <td>11.0</td>\n",
       "      <td>7.0</td>\n",
       "      <td>7.0</td>\n",
       "      <td>6.0</td>\n",
       "      <td>7.0</td>\n",
       "      <td>8.0</td>\n",
       "      <td>8.0</td>\n",
       "      <td>8.0</td>\n",
       "      <td>10.0</td>\n",
       "      <td>9.0</td>\n",
       "      <td>...</td>\n",
       "      <td>7.0</td>\n",
       "      <td>7.0</td>\n",
       "      <td>9.0</td>\n",
       "      <td>9.0</td>\n",
       "      <td>9.0</td>\n",
       "      <td>9.0</td>\n",
       "      <td>7.0</td>\n",
       "      <td>7.0</td>\n",
       "      <td>8.0</td>\n",
       "      <td>7</td>\n",
       "    </tr>\n",
       "    <tr>\n",
       "      <th rowspan=\"2\" valign=\"top\">Auckland</th>\n",
       "      <th rowspan=\"2\" valign=\"top\">2020-07-22</th>\n",
       "      <th>high</th>\n",
       "      <td>16.0</td>\n",
       "      <td>14.0</td>\n",
       "      <td>16.0</td>\n",
       "      <td>14.0</td>\n",
       "      <td>14.0</td>\n",
       "      <td>14.0</td>\n",
       "      <td>14.0</td>\n",
       "      <td>14.0</td>\n",
       "      <td>16.0</td>\n",
       "      <td>16.0</td>\n",
       "      <td>...</td>\n",
       "      <td>14.0</td>\n",
       "      <td>15.0</td>\n",
       "      <td>15.0</td>\n",
       "      <td>16.0</td>\n",
       "      <td>17.0</td>\n",
       "      <td>16.0</td>\n",
       "      <td>16.0</td>\n",
       "      <td>16.0</td>\n",
       "      <td>15.0</td>\n",
       "      <td>16</td>\n",
       "    </tr>\n",
       "    <tr>\n",
       "      <th>low</th>\n",
       "      <td>10.0</td>\n",
       "      <td>10.0</td>\n",
       "      <td>10.0</td>\n",
       "      <td>8.0</td>\n",
       "      <td>7.0</td>\n",
       "      <td>7.0</td>\n",
       "      <td>9.0</td>\n",
       "      <td>12.0</td>\n",
       "      <td>10.0</td>\n",
       "      <td>10.0</td>\n",
       "      <td>...</td>\n",
       "      <td>10.0</td>\n",
       "      <td>10.0</td>\n",
       "      <td>11.0</td>\n",
       "      <td>11.0</td>\n",
       "      <td>10.0</td>\n",
       "      <td>11.0</td>\n",
       "      <td>9.0</td>\n",
       "      <td>10.0</td>\n",
       "      <td>11.0</td>\n",
       "      <td>10</td>\n",
       "    </tr>\n",
       "    <tr>\n",
       "      <th>Sydney</th>\n",
       "      <th>2020-07-22</th>\n",
       "      <th>high</th>\n",
       "      <td>18.0</td>\n",
       "      <td>19.0</td>\n",
       "      <td>18.0</td>\n",
       "      <td>18.0</td>\n",
       "      <td>18.0</td>\n",
       "      <td>15.0</td>\n",
       "      <td>16.0</td>\n",
       "      <td>16.0</td>\n",
       "      <td>19.0</td>\n",
       "      <td>18.0</td>\n",
       "      <td>...</td>\n",
       "      <td>18.0</td>\n",
       "      <td>18.0</td>\n",
       "      <td>18.0</td>\n",
       "      <td>19.0</td>\n",
       "      <td>22.0</td>\n",
       "      <td>20.0</td>\n",
       "      <td>20.0</td>\n",
       "      <td>18.0</td>\n",
       "      <td>20.0</td>\n",
       "      <td>18</td>\n",
       "    </tr>\n",
       "  </tbody>\n",
       "</table>\n",
       "<p>5 rows × 42 columns</p>\n",
       "</div>"
      ],
      "text/plain": [
       "                            2020-07-21  2020-07-22  2020-07-23  2020-07-24  \\\n",
       "Location   Collected  Type                                                   \n",
       "Wellington 2020-07-22 high        14.0        11.0        14.0        12.0   \n",
       "                      low         11.0         7.0         7.0         6.0   \n",
       "Auckland   2020-07-22 high        16.0        14.0        16.0        14.0   \n",
       "                      low         10.0        10.0        10.0         8.0   \n",
       "Sydney     2020-07-22 high        18.0        19.0        18.0        18.0   \n",
       "\n",
       "                            2020-07-25  2020-07-26  2020-07-27  2020-07-28  \\\n",
       "Location   Collected  Type                                                   \n",
       "Wellington 2020-07-22 high        12.0        13.0        13.0        13.0   \n",
       "                      low          7.0         8.0         8.0         8.0   \n",
       "Auckland   2020-07-22 high        14.0        14.0        14.0        14.0   \n",
       "                      low          7.0         7.0         9.0        12.0   \n",
       "Sydney     2020-07-22 high        18.0        15.0        16.0        16.0   \n",
       "\n",
       "                            2020-07-29  2020-07-30  ...  2020-08-22  \\\n",
       "Location   Collected  Type                          ...               \n",
       "Wellington 2020-07-22 high        14.0        14.0  ...        14.0   \n",
       "                      low         10.0         9.0  ...         7.0   \n",
       "Auckland   2020-07-22 high        16.0        16.0  ...        14.0   \n",
       "                      low         10.0        10.0  ...        10.0   \n",
       "Sydney     2020-07-22 high        19.0        18.0  ...        18.0   \n",
       "\n",
       "                            2020-08-23  2020-08-24  2020-08-25  2020-08-26  \\\n",
       "Location   Collected  Type                                                   \n",
       "Wellington 2020-07-22 high        12.0        14.0        14.0        15.0   \n",
       "                      low          7.0         9.0         9.0         9.0   \n",
       "Auckland   2020-07-22 high        15.0        15.0        16.0        17.0   \n",
       "                      low         10.0        11.0        11.0        10.0   \n",
       "Sydney     2020-07-22 high        18.0        18.0        19.0        22.0   \n",
       "\n",
       "                            2020-08-27  2020-08-28  2020-08-29  2020-08-30  \\\n",
       "Location   Collected  Type                                                   \n",
       "Wellington 2020-07-22 high        15.0        15.0        14.0        13.0   \n",
       "                      low          9.0         7.0         7.0         8.0   \n",
       "Auckland   2020-07-22 high        16.0        16.0        16.0        15.0   \n",
       "                      low         11.0         9.0        10.0        11.0   \n",
       "Sydney     2020-07-22 high        20.0        20.0        18.0        20.0   \n",
       "\n",
       "                            2020-08-31  \n",
       "Location   Collected  Type              \n",
       "Wellington 2020-07-22 high          14  \n",
       "                      low            7  \n",
       "Auckland   2020-07-22 high          16  \n",
       "                      low           10  \n",
       "Sydney     2020-07-22 high          18  \n",
       "\n",
       "[5 rows x 42 columns]"
      ]
     },
     "execution_count": 3,
     "metadata": {},
     "output_type": "execute_result"
    }
   ],
   "source": [
    "weather_df['Collected']=pd.to_datetime(weather_df['Collected'], format='%Y-%m-%d %H:%M:%S.%f')\n",
    "weather_df['Collected'] = weather_df['Collected'].dt.floor('d')\n",
    "weather_df = weather_df.set_index(['Location', 'Collected','Type'])\n",
    "weather_df.columns = pd.to_datetime(weather_df.columns, format='%Y-%m-%d')\n",
    "weather_df.head()"
   ]
  },
  {
   "cell_type": "markdown",
   "metadata": {},
   "source": [
    "We need to clean the data to ensure there are no duplicates where we have collected twice on the same day. We can see that there is a relatively minute amount of duplicates"
   ]
  },
  {
   "cell_type": "code",
   "execution_count": 4,
   "metadata": {},
   "outputs": [
    {
     "name": "stdout",
     "output_type": "stream",
     "text": [
      "old duplicate percentage = 0.09%\n",
      "new duplicate percentage = 0.00%\n"
     ]
    }
   ],
   "source": [
    "# Check duplicate count\n",
    "dup_perc = weather_df[weather_df.index.duplicated()].shape[0] / weather_df.shape[0] * 100\n",
    "print(f\"old duplicate percentage = {dup_perc:.2f}%\")\n",
    "\n",
    "# Remove duplicates\n",
    "weather_df = weather_df[~weather_df.index.duplicated()]\n",
    "dup_perc = weather_df[weather_df.index.duplicated()].shape[0] / weather_df.shape[0] * 100\n",
    "print(f\"new duplicate percentage = {dup_perc:.2f}%\")\n"
   ]
  },
  {
   "cell_type": "markdown",
   "metadata": {},
   "source": [
    "### Create 'time delta' dataframe and mask functions"
   ]
  },
  {
   "cell_type": "markdown",
   "metadata": {},
   "source": [
    "We wish to find how accurate forecasts are based on distance from forecast date. Hence, we are interested in the difference between collection date (which is part of the index), and the forecasted day (columns). Once we have established this, we can create masks which will return the relevant data."
   ]
  },
  {
   "cell_type": "code",
   "execution_count": 5,
   "metadata": {},
   "outputs": [
    {
     "data": {
      "text/html": [
       "<div>\n",
       "<style scoped>\n",
       "    .dataframe tbody tr th:only-of-type {\n",
       "        vertical-align: middle;\n",
       "    }\n",
       "\n",
       "    .dataframe tbody tr th {\n",
       "        vertical-align: top;\n",
       "    }\n",
       "\n",
       "    .dataframe thead th {\n",
       "        text-align: right;\n",
       "    }\n",
       "</style>\n",
       "<table border=\"1\" class=\"dataframe\">\n",
       "  <thead>\n",
       "    <tr style=\"text-align: right;\">\n",
       "      <th></th>\n",
       "      <th></th>\n",
       "      <th></th>\n",
       "      <th>2020-07-21</th>\n",
       "      <th>2020-07-22</th>\n",
       "      <th>2020-07-23</th>\n",
       "      <th>2020-07-24</th>\n",
       "      <th>2020-07-25</th>\n",
       "      <th>2020-07-26</th>\n",
       "      <th>2020-07-27</th>\n",
       "      <th>2020-07-28</th>\n",
       "      <th>2020-07-29</th>\n",
       "      <th>2020-07-30</th>\n",
       "      <th>...</th>\n",
       "      <th>2020-08-22</th>\n",
       "      <th>2020-08-23</th>\n",
       "      <th>2020-08-24</th>\n",
       "      <th>2020-08-25</th>\n",
       "      <th>2020-08-26</th>\n",
       "      <th>2020-08-27</th>\n",
       "      <th>2020-08-28</th>\n",
       "      <th>2020-08-29</th>\n",
       "      <th>2020-08-30</th>\n",
       "      <th>2020-08-31</th>\n",
       "    </tr>\n",
       "    <tr>\n",
       "      <th>Location</th>\n",
       "      <th>Collected</th>\n",
       "      <th>Type</th>\n",
       "      <th></th>\n",
       "      <th></th>\n",
       "      <th></th>\n",
       "      <th></th>\n",
       "      <th></th>\n",
       "      <th></th>\n",
       "      <th></th>\n",
       "      <th></th>\n",
       "      <th></th>\n",
       "      <th></th>\n",
       "      <th></th>\n",
       "      <th></th>\n",
       "      <th></th>\n",
       "      <th></th>\n",
       "      <th></th>\n",
       "      <th></th>\n",
       "      <th></th>\n",
       "      <th></th>\n",
       "      <th></th>\n",
       "      <th></th>\n",
       "      <th></th>\n",
       "    </tr>\n",
       "  </thead>\n",
       "  <tbody>\n",
       "    <tr>\n",
       "      <th rowspan=\"2\" valign=\"top\">Wellington</th>\n",
       "      <th rowspan=\"2\" valign=\"top\">2020-07-22</th>\n",
       "      <th>high</th>\n",
       "      <td>-1 days</td>\n",
       "      <td>0 days</td>\n",
       "      <td>1 days</td>\n",
       "      <td>2 days</td>\n",
       "      <td>3 days</td>\n",
       "      <td>4 days</td>\n",
       "      <td>5 days</td>\n",
       "      <td>6 days</td>\n",
       "      <td>7 days</td>\n",
       "      <td>8 days</td>\n",
       "      <td>...</td>\n",
       "      <td>31 days</td>\n",
       "      <td>32 days</td>\n",
       "      <td>33 days</td>\n",
       "      <td>34 days</td>\n",
       "      <td>35 days</td>\n",
       "      <td>36 days</td>\n",
       "      <td>37 days</td>\n",
       "      <td>38 days</td>\n",
       "      <td>39 days</td>\n",
       "      <td>40 days</td>\n",
       "    </tr>\n",
       "    <tr>\n",
       "      <th>low</th>\n",
       "      <td>-1 days</td>\n",
       "      <td>0 days</td>\n",
       "      <td>1 days</td>\n",
       "      <td>2 days</td>\n",
       "      <td>3 days</td>\n",
       "      <td>4 days</td>\n",
       "      <td>5 days</td>\n",
       "      <td>6 days</td>\n",
       "      <td>7 days</td>\n",
       "      <td>8 days</td>\n",
       "      <td>...</td>\n",
       "      <td>31 days</td>\n",
       "      <td>32 days</td>\n",
       "      <td>33 days</td>\n",
       "      <td>34 days</td>\n",
       "      <td>35 days</td>\n",
       "      <td>36 days</td>\n",
       "      <td>37 days</td>\n",
       "      <td>38 days</td>\n",
       "      <td>39 days</td>\n",
       "      <td>40 days</td>\n",
       "    </tr>\n",
       "    <tr>\n",
       "      <th rowspan=\"2\" valign=\"top\">Auckland</th>\n",
       "      <th rowspan=\"2\" valign=\"top\">2020-07-22</th>\n",
       "      <th>high</th>\n",
       "      <td>-1 days</td>\n",
       "      <td>0 days</td>\n",
       "      <td>1 days</td>\n",
       "      <td>2 days</td>\n",
       "      <td>3 days</td>\n",
       "      <td>4 days</td>\n",
       "      <td>5 days</td>\n",
       "      <td>6 days</td>\n",
       "      <td>7 days</td>\n",
       "      <td>8 days</td>\n",
       "      <td>...</td>\n",
       "      <td>31 days</td>\n",
       "      <td>32 days</td>\n",
       "      <td>33 days</td>\n",
       "      <td>34 days</td>\n",
       "      <td>35 days</td>\n",
       "      <td>36 days</td>\n",
       "      <td>37 days</td>\n",
       "      <td>38 days</td>\n",
       "      <td>39 days</td>\n",
       "      <td>40 days</td>\n",
       "    </tr>\n",
       "    <tr>\n",
       "      <th>low</th>\n",
       "      <td>-1 days</td>\n",
       "      <td>0 days</td>\n",
       "      <td>1 days</td>\n",
       "      <td>2 days</td>\n",
       "      <td>3 days</td>\n",
       "      <td>4 days</td>\n",
       "      <td>5 days</td>\n",
       "      <td>6 days</td>\n",
       "      <td>7 days</td>\n",
       "      <td>8 days</td>\n",
       "      <td>...</td>\n",
       "      <td>31 days</td>\n",
       "      <td>32 days</td>\n",
       "      <td>33 days</td>\n",
       "      <td>34 days</td>\n",
       "      <td>35 days</td>\n",
       "      <td>36 days</td>\n",
       "      <td>37 days</td>\n",
       "      <td>38 days</td>\n",
       "      <td>39 days</td>\n",
       "      <td>40 days</td>\n",
       "    </tr>\n",
       "    <tr>\n",
       "      <th>Sydney</th>\n",
       "      <th>2020-07-22</th>\n",
       "      <th>high</th>\n",
       "      <td>-1 days</td>\n",
       "      <td>0 days</td>\n",
       "      <td>1 days</td>\n",
       "      <td>2 days</td>\n",
       "      <td>3 days</td>\n",
       "      <td>4 days</td>\n",
       "      <td>5 days</td>\n",
       "      <td>6 days</td>\n",
       "      <td>7 days</td>\n",
       "      <td>8 days</td>\n",
       "      <td>...</td>\n",
       "      <td>31 days</td>\n",
       "      <td>32 days</td>\n",
       "      <td>33 days</td>\n",
       "      <td>34 days</td>\n",
       "      <td>35 days</td>\n",
       "      <td>36 days</td>\n",
       "      <td>37 days</td>\n",
       "      <td>38 days</td>\n",
       "      <td>39 days</td>\n",
       "      <td>40 days</td>\n",
       "    </tr>\n",
       "  </tbody>\n",
       "</table>\n",
       "<p>5 rows × 42 columns</p>\n",
       "</div>"
      ],
      "text/plain": [
       "                           2020-07-21 2020-07-22 2020-07-23 2020-07-24  \\\n",
       "Location   Collected  Type                                               \n",
       "Wellington 2020-07-22 high    -1 days     0 days     1 days     2 days   \n",
       "                      low     -1 days     0 days     1 days     2 days   \n",
       "Auckland   2020-07-22 high    -1 days     0 days     1 days     2 days   \n",
       "                      low     -1 days     0 days     1 days     2 days   \n",
       "Sydney     2020-07-22 high    -1 days     0 days     1 days     2 days   \n",
       "\n",
       "                           2020-07-25 2020-07-26 2020-07-27 2020-07-28  \\\n",
       "Location   Collected  Type                                               \n",
       "Wellington 2020-07-22 high     3 days     4 days     5 days     6 days   \n",
       "                      low      3 days     4 days     5 days     6 days   \n",
       "Auckland   2020-07-22 high     3 days     4 days     5 days     6 days   \n",
       "                      low      3 days     4 days     5 days     6 days   \n",
       "Sydney     2020-07-22 high     3 days     4 days     5 days     6 days   \n",
       "\n",
       "                           2020-07-29 2020-07-30  ... 2020-08-22 2020-08-23  \\\n",
       "Location   Collected  Type                        ...                         \n",
       "Wellington 2020-07-22 high     7 days     8 days  ...    31 days    32 days   \n",
       "                      low      7 days     8 days  ...    31 days    32 days   \n",
       "Auckland   2020-07-22 high     7 days     8 days  ...    31 days    32 days   \n",
       "                      low      7 days     8 days  ...    31 days    32 days   \n",
       "Sydney     2020-07-22 high     7 days     8 days  ...    31 days    32 days   \n",
       "\n",
       "                           2020-08-24 2020-08-25 2020-08-26 2020-08-27  \\\n",
       "Location   Collected  Type                                               \n",
       "Wellington 2020-07-22 high    33 days    34 days    35 days    36 days   \n",
       "                      low     33 days    34 days    35 days    36 days   \n",
       "Auckland   2020-07-22 high    33 days    34 days    35 days    36 days   \n",
       "                      low     33 days    34 days    35 days    36 days   \n",
       "Sydney     2020-07-22 high    33 days    34 days    35 days    36 days   \n",
       "\n",
       "                           2020-08-28 2020-08-29 2020-08-30 2020-08-31  \n",
       "Location   Collected  Type                                              \n",
       "Wellington 2020-07-22 high    37 days    38 days    39 days    40 days  \n",
       "                      low     37 days    38 days    39 days    40 days  \n",
       "Auckland   2020-07-22 high    37 days    38 days    39 days    40 days  \n",
       "                      low     37 days    38 days    39 days    40 days  \n",
       "Sydney     2020-07-22 high    37 days    38 days    39 days    40 days  \n",
       "\n",
       "[5 rows x 42 columns]"
      ]
     },
     "execution_count": 5,
     "metadata": {},
     "output_type": "execute_result"
    }
   ],
   "source": [
    "column_values = weather_df.columns.values\n",
    "index_values_full = weather_df.index.get_level_values(1).values\n",
    "time_deltas_with_duplicates = (column_values[np.newaxis,:] - index_values_full[:,np.newaxis])\n",
    "time_deltas_with_duplicates = time_deltas_with_duplicates.astype('timedelta64[D]')\n",
    "time_deltas_df = pd.DataFrame(time_deltas_with_duplicates, index=weather_df.index, columns=weather_df.columns)\n",
    "time_deltas_df.head()\n",
    "\n",
    "# # Currently unused. Can we make use of the below for a more efficient representation?\n",
    "# index_values = weather_df.index.get_level_values(1).drop_duplicates().values\n",
    "# time_deltas = (column_values[np.newaxis,:] - index_values[:,np.newaxis]).astype('timedelta64[D]')"
   ]
  },
  {
   "cell_type": "markdown",
   "metadata": {},
   "source": [
    "A quick sanity check"
   ]
  },
  {
   "cell_type": "code",
   "execution_count": 6,
   "metadata": {},
   "outputs": [
    {
     "data": {
      "text/plain": [
       "True"
      ]
     },
     "execution_count": 6,
     "metadata": {},
     "output_type": "execute_result"
    }
   ],
   "source": [
    "time_deltas_with_duplicates.shape == weather_df.shape"
   ]
  },
  {
   "cell_type": "markdown",
   "metadata": {},
   "source": [
    "We can now use the time_deltas dataframe to create masks for a fixed distances between date of collection and forecasted date."
   ]
  },
  {
   "cell_type": "code",
   "execution_count": 7,
   "metadata": {},
   "outputs": [],
   "source": [
    "def create_df_mask(day_diff):\n",
    "\n",
    "    is_int = isinstance(day_diff, int)\n",
    "    is_time_delta = isinstance(day_diff, np.timedelta64)\n",
    "\n",
    "    assert is_int or is_time_delta, \"day_diff argument must be integer or np.timedelta64\"\n",
    "    \n",
    "    day_diff = np.timedelta64(day_diff, 'D')\n",
    "    mask = (time_deltas_df == day_diff)\n",
    "    \n",
    "    return mask\n",
    "\n",
    "def create_df_mask_range(min_diff, max_diff):\n",
    "    masks = []\n",
    "    for day_diff in range(min_diff, max_diff+1):\n",
    "        masks.append(create_df_mask(day_diff))\n",
    "    return np.logical_or.reduce(masks)    "
   ]
  },
  {
   "cell_type": "markdown",
   "metadata": {},
   "source": [
    "### Find true temperatures and deviation from true temperatures"
   ]
  },
  {
   "cell_type": "markdown",
   "metadata": {},
   "source": [
    "It is then possible to create series to capture temperatures on a given date as predicted day_diff days ago; that is, rather than representing the collection date, the date in the index will now represent the forecasted day."
   ]
  },
  {
   "cell_type": "code",
   "execution_count": 8,
   "metadata": {},
   "outputs": [],
   "source": [
    "def get_predicted_temperatures(day_diff):\n",
    "    predicted_temps = weather_df[create_df_mask(day_diff)]\n",
    "    predicted_temps = predicted_temps.stack().droplevel('Collected')\n",
    "    predicted_temps.index = predicted_temps.index.set_names(['Location', 'Type', 'Date'])\n",
    "    predicted_temps.swaplevel(1,2)\n",
    "\n",
    "    return predicted_temps\n"
   ]
  },
  {
   "cell_type": "markdown",
   "metadata": {},
   "source": [
    "To view how this data is formatted, if we look at temperatures as predicted 30 days in the past, we find that the dates begin on 2020-08-21, 30 days in from the day collection started (2020-07-22)."
   ]
  },
  {
   "cell_type": "code",
   "execution_count": 9,
   "metadata": {},
   "outputs": [
    {
     "data": {
      "text/plain": [
       "Location    Type  Date      \n",
       "Wellington  high  2020-08-21    12.0\n",
       "            low   2020-08-21     8.0\n",
       "Auckland    high  2020-08-21    14.0\n",
       "            low   2020-08-21    10.0\n",
       "Sydney      high  2020-08-21    18.0\n",
       "dtype: float64"
      ]
     },
     "execution_count": 9,
     "metadata": {},
     "output_type": "execute_result"
    }
   ],
   "source": [
    "get_predicted_temperatures(30).head()"
   ]
  },
  {
   "cell_type": "markdown",
   "metadata": {},
   "source": [
    "I choose to define the true temperature for a day as the recorded result when checking from the following day (i.e. the true temperature for 2020-07-22, is given by checking on 2020-07-23). It is then possible to define the absolute deviation."
   ]
  },
  {
   "cell_type": "code",
   "execution_count": 10,
   "metadata": {},
   "outputs": [],
   "source": [
    "true_temperatures = get_predicted_temperatures(-1)\n",
    "def find_deviation(day_diff):\n",
    "    return (get_predicted_temperatures(day_diff)-true_temperatures).dropna()\n",
    "\n",
    "def find_abs_deviation(day_diff):\n",
    "    return np.abs(find_deviation(day_diff))"
   ]
  },
  {
   "cell_type": "markdown",
   "metadata": {},
   "source": [
    "If this is completely reliable, then checking any number of days in the past should yield no deviation with the above result, unfortunately this is not the case. "
   ]
  },
  {
   "cell_type": "code",
   "execution_count": 11,
   "metadata": {},
   "outputs": [
    {
     "name": "stdout",
     "output_type": "stream",
     "text": [
      "mean error = 0.05411255411255411\n",
      "percentage incorrect = 1.908697363242818\n"
     ]
    }
   ],
   "source": [
    "deviation_2_days_back = find_abs_deviation(-2)\n",
    "mean_back_deviation = deviation_2_days_back.mean()\n",
    "mismatch_num = (deviation_2_days_back>0).sum()\n",
    "mismatch_perc = mismatch_num/deviation_2_days_back.shape[0]*100\n",
    "\n",
    "print(f'mean error = {mean_back_deviation}')\n",
    "print(f'percentage incorrect = {mismatch_perc}')"
   ]
  },
  {
   "cell_type": "markdown",
   "metadata": {},
   "source": [
    "We can see here that there is a notable, but not devastating, mismatch - on average about 1/20th of a degree. As far as I can tell, there are probably two resons for this:\n",
    "\n",
    "1. I have taken some measures to minimise the impact of time zones, but haven't been exceptionally careful. If the application were more critical, I'd dig into the data here, but it isn't so I won't.\n",
    "\n",
    "2. Some results seem to be changed retroactively, but it's not clear to me what the reason or pattern behind this is.\n",
    "\n",
    "Whatever the case, the impact is sufficiently small that I expect the results to be acceptable."
   ]
  },
  {
   "cell_type": "markdown",
   "metadata": {},
   "source": [
    "### Sanity check"
   ]
  },
  {
   "cell_type": "markdown",
   "metadata": {},
   "source": [
    "Lets manually dig into a more detailed example"
   ]
  },
  {
   "cell_type": "code",
   "execution_count": 12,
   "metadata": {},
   "outputs": [],
   "source": [
    "test_deviations_high = find_abs_deviation(25)['Wellington']['high'][0:7]\n",
    "test_deviations_low = find_abs_deviation(25)['Wellington']['low'][0:7]"
   ]
  },
  {
   "cell_type": "code",
   "execution_count": 13,
   "metadata": {},
   "outputs": [],
   "source": [
    "wellington_df=weather_df.loc['Wellington']"
   ]
  },
  {
   "cell_type": "markdown",
   "metadata": {},
   "source": [
    "Predictions, for collection dates 25 days earlier."
   ]
  },
  {
   "cell_type": "code",
   "execution_count": 14,
   "metadata": {},
   "outputs": [],
   "source": [
    "idx = pd.IndexSlice\n",
    "row_idx = idx['2020-07-22':'2020-07-28']\n",
    "col_idx = idx['2020-08-16':'2020-08-22']\n",
    "truncated_30_days = wellington_df.loc[row_idx, col_idx]\n",
    "high_predictions = truncated_30_days.xs('high', level=1).to_numpy().diagonal()\n",
    "low_predictions = truncated_30_days.xs('low', level=1).to_numpy().diagonal()"
   ]
  },
  {
   "cell_type": "markdown",
   "metadata": {},
   "source": [
    "Predictions when collection date is one day later."
   ]
  },
  {
   "cell_type": "code",
   "execution_count": 15,
   "metadata": {},
   "outputs": [],
   "source": [
    "row_idx_adv = idx['2020-08-17':'2020-08-23']\n",
    "truncated_m1_days = wellington_df.loc[row_idx_adv, col_idx]\n",
    "high_trues = truncated_m1_days.xs('high', level=1).to_numpy().diagonal()\n",
    "low_trues = truncated_m1_days.xs('low', level=1).to_numpy().diagonal()"
   ]
  },
  {
   "cell_type": "code",
   "execution_count": 16,
   "metadata": {},
   "outputs": [
    {
     "data": {
      "text/plain": [
       "Date\n",
       "2020-08-16    True\n",
       "2020-08-17    True\n",
       "2020-08-18    True\n",
       "2020-08-19    True\n",
       "2020-08-20    True\n",
       "2020-08-21    True\n",
       "2020-08-22    True\n",
       "dtype: bool"
      ]
     },
     "execution_count": 16,
     "metadata": {},
     "output_type": "execute_result"
    }
   ],
   "source": [
    "np.abs(high_predictions - high_trues) == test_deviations_high"
   ]
  },
  {
   "cell_type": "code",
   "execution_count": 17,
   "metadata": {},
   "outputs": [
    {
     "data": {
      "text/plain": [
       "Date\n",
       "2020-08-16    True\n",
       "2020-08-17    True\n",
       "2020-08-18    True\n",
       "2020-08-19    True\n",
       "2020-08-20    True\n",
       "2020-08-21    True\n",
       "2020-08-22    True\n",
       "dtype: bool"
      ]
     },
     "execution_count": 17,
     "metadata": {},
     "output_type": "execute_result"
    }
   ],
   "source": [
    "np.abs(low_predictions - low_trues) == test_deviations_low"
   ]
  },
  {
   "cell_type": "markdown",
   "metadata": {},
   "source": [
    "This seems to work."
   ]
  },
  {
   "cell_type": "markdown",
   "metadata": {},
   "source": [
    "## The forecast deviation dataframe"
   ]
  },
  {
   "cell_type": "markdown",
   "metadata": {},
   "source": [
    "I now create a dataframe which collates  for which each column should now match the results of the individual series produced by `find_deviation`. In summary, the index will contain the day, high/lo temperature and the date of the forecasted day (no longer the collection date). The columns will indicate how many days ago the forecast was obtained."
   ]
  },
  {
   "cell_type": "code",
   "execution_count": 18,
   "metadata": {},
   "outputs": [
    {
     "data": {
      "text/html": [
       "<div>\n",
       "<style scoped>\n",
       "    .dataframe tbody tr th:only-of-type {\n",
       "        vertical-align: middle;\n",
       "    }\n",
       "\n",
       "    .dataframe tbody tr th {\n",
       "        vertical-align: top;\n",
       "    }\n",
       "\n",
       "    .dataframe thead th {\n",
       "        text-align: right;\n",
       "    }\n",
       "</style>\n",
       "<table border=\"1\" class=\"dataframe\">\n",
       "  <thead>\n",
       "    <tr style=\"text-align: right;\">\n",
       "      <th></th>\n",
       "      <th></th>\n",
       "      <th></th>\n",
       "      <th>0</th>\n",
       "      <th>1</th>\n",
       "      <th>2</th>\n",
       "      <th>3</th>\n",
       "      <th>4</th>\n",
       "      <th>5</th>\n",
       "      <th>6</th>\n",
       "      <th>7</th>\n",
       "      <th>8</th>\n",
       "      <th>9</th>\n",
       "      <th>...</th>\n",
       "      <th>21</th>\n",
       "      <th>22</th>\n",
       "      <th>23</th>\n",
       "      <th>24</th>\n",
       "      <th>25</th>\n",
       "      <th>26</th>\n",
       "      <th>27</th>\n",
       "      <th>28</th>\n",
       "      <th>29</th>\n",
       "      <th>30</th>\n",
       "    </tr>\n",
       "    <tr>\n",
       "      <th>Location</th>\n",
       "      <th>Type</th>\n",
       "      <th>Date</th>\n",
       "      <th></th>\n",
       "      <th></th>\n",
       "      <th></th>\n",
       "      <th></th>\n",
       "      <th></th>\n",
       "      <th></th>\n",
       "      <th></th>\n",
       "      <th></th>\n",
       "      <th></th>\n",
       "      <th></th>\n",
       "      <th></th>\n",
       "      <th></th>\n",
       "      <th></th>\n",
       "      <th></th>\n",
       "      <th></th>\n",
       "      <th></th>\n",
       "      <th></th>\n",
       "      <th></th>\n",
       "      <th></th>\n",
       "      <th></th>\n",
       "      <th></th>\n",
       "    </tr>\n",
       "  </thead>\n",
       "  <tbody>\n",
       "    <tr>\n",
       "      <th rowspan=\"5\" valign=\"top\">Abidjan</th>\n",
       "      <th rowspan=\"5\" valign=\"top\">high</th>\n",
       "      <th>2020-07-22</th>\n",
       "      <td>1.0</td>\n",
       "      <td>NaN</td>\n",
       "      <td>NaN</td>\n",
       "      <td>NaN</td>\n",
       "      <td>NaN</td>\n",
       "      <td>NaN</td>\n",
       "      <td>NaN</td>\n",
       "      <td>NaN</td>\n",
       "      <td>NaN</td>\n",
       "      <td>NaN</td>\n",
       "      <td>...</td>\n",
       "      <td>NaN</td>\n",
       "      <td>NaN</td>\n",
       "      <td>NaN</td>\n",
       "      <td>NaN</td>\n",
       "      <td>NaN</td>\n",
       "      <td>NaN</td>\n",
       "      <td>NaN</td>\n",
       "      <td>NaN</td>\n",
       "      <td>NaN</td>\n",
       "      <td>NaN</td>\n",
       "    </tr>\n",
       "    <tr>\n",
       "      <th>2020-07-23</th>\n",
       "      <td>0.0</td>\n",
       "      <td>-1.0</td>\n",
       "      <td>NaN</td>\n",
       "      <td>NaN</td>\n",
       "      <td>NaN</td>\n",
       "      <td>NaN</td>\n",
       "      <td>NaN</td>\n",
       "      <td>NaN</td>\n",
       "      <td>NaN</td>\n",
       "      <td>NaN</td>\n",
       "      <td>...</td>\n",
       "      <td>NaN</td>\n",
       "      <td>NaN</td>\n",
       "      <td>NaN</td>\n",
       "      <td>NaN</td>\n",
       "      <td>NaN</td>\n",
       "      <td>NaN</td>\n",
       "      <td>NaN</td>\n",
       "      <td>NaN</td>\n",
       "      <td>NaN</td>\n",
       "      <td>NaN</td>\n",
       "    </tr>\n",
       "    <tr>\n",
       "      <th>2020-07-24</th>\n",
       "      <td>-1.0</td>\n",
       "      <td>0.0</td>\n",
       "      <td>0.0</td>\n",
       "      <td>NaN</td>\n",
       "      <td>NaN</td>\n",
       "      <td>NaN</td>\n",
       "      <td>NaN</td>\n",
       "      <td>NaN</td>\n",
       "      <td>NaN</td>\n",
       "      <td>NaN</td>\n",
       "      <td>...</td>\n",
       "      <td>NaN</td>\n",
       "      <td>NaN</td>\n",
       "      <td>NaN</td>\n",
       "      <td>NaN</td>\n",
       "      <td>NaN</td>\n",
       "      <td>NaN</td>\n",
       "      <td>NaN</td>\n",
       "      <td>NaN</td>\n",
       "      <td>NaN</td>\n",
       "      <td>NaN</td>\n",
       "    </tr>\n",
       "    <tr>\n",
       "      <th>2020-07-25</th>\n",
       "      <td>-1.0</td>\n",
       "      <td>-2.0</td>\n",
       "      <td>-2.0</td>\n",
       "      <td>-2.0</td>\n",
       "      <td>NaN</td>\n",
       "      <td>NaN</td>\n",
       "      <td>NaN</td>\n",
       "      <td>NaN</td>\n",
       "      <td>NaN</td>\n",
       "      <td>NaN</td>\n",
       "      <td>...</td>\n",
       "      <td>NaN</td>\n",
       "      <td>NaN</td>\n",
       "      <td>NaN</td>\n",
       "      <td>NaN</td>\n",
       "      <td>NaN</td>\n",
       "      <td>NaN</td>\n",
       "      <td>NaN</td>\n",
       "      <td>NaN</td>\n",
       "      <td>NaN</td>\n",
       "      <td>NaN</td>\n",
       "    </tr>\n",
       "    <tr>\n",
       "      <th>2020-07-26</th>\n",
       "      <td>0.0</td>\n",
       "      <td>0.0</td>\n",
       "      <td>-1.0</td>\n",
       "      <td>-1.0</td>\n",
       "      <td>-1.0</td>\n",
       "      <td>NaN</td>\n",
       "      <td>NaN</td>\n",
       "      <td>NaN</td>\n",
       "      <td>NaN</td>\n",
       "      <td>NaN</td>\n",
       "      <td>...</td>\n",
       "      <td>NaN</td>\n",
       "      <td>NaN</td>\n",
       "      <td>NaN</td>\n",
       "      <td>NaN</td>\n",
       "      <td>NaN</td>\n",
       "      <td>NaN</td>\n",
       "      <td>NaN</td>\n",
       "      <td>NaN</td>\n",
       "      <td>NaN</td>\n",
       "      <td>NaN</td>\n",
       "    </tr>\n",
       "  </tbody>\n",
       "</table>\n",
       "<p>5 rows × 31 columns</p>\n",
       "</div>"
      ],
      "text/plain": [
       "                           0    1    2    3    4   5   6   7   8   9   ...  \\\n",
       "Location Type Date                                                     ...   \n",
       "Abidjan  high 2020-07-22  1.0  NaN  NaN  NaN  NaN NaN NaN NaN NaN NaN  ...   \n",
       "              2020-07-23  0.0 -1.0  NaN  NaN  NaN NaN NaN NaN NaN NaN  ...   \n",
       "              2020-07-24 -1.0  0.0  0.0  NaN  NaN NaN NaN NaN NaN NaN  ...   \n",
       "              2020-07-25 -1.0 -2.0 -2.0 -2.0  NaN NaN NaN NaN NaN NaN  ...   \n",
       "              2020-07-26  0.0  0.0 -1.0 -1.0 -1.0 NaN NaN NaN NaN NaN  ...   \n",
       "\n",
       "                          21  22  23  24  25  26  27  28  29  30  \n",
       "Location Type Date                                                \n",
       "Abidjan  high 2020-07-22 NaN NaN NaN NaN NaN NaN NaN NaN NaN NaN  \n",
       "              2020-07-23 NaN NaN NaN NaN NaN NaN NaN NaN NaN NaN  \n",
       "              2020-07-24 NaN NaN NaN NaN NaN NaN NaN NaN NaN NaN  \n",
       "              2020-07-25 NaN NaN NaN NaN NaN NaN NaN NaN NaN NaN  \n",
       "              2020-07-26 NaN NaN NaN NaN NaN NaN NaN NaN NaN NaN  \n",
       "\n",
       "[5 rows x 31 columns]"
      ]
     },
     "execution_count": 18,
     "metadata": {},
     "output_type": "execute_result"
    }
   ],
   "source": [
    "all_frames = map(find_deviation, range(31))\n",
    "forecast_dev_df = pd.concat(all_frames, axis=1, keys = range(31))\n",
    "forecast_dev_df.head()"
   ]
  },
  {
   "cell_type": "markdown",
   "metadata": {},
   "source": [
    "A quick correctness check:"
   ]
  },
  {
   "cell_type": "code",
   "execution_count": 19,
   "metadata": {},
   "outputs": [
    {
     "name": "stdout",
     "output_type": "stream",
     "text": [
      "no mismatch found\n"
     ]
    }
   ],
   "source": [
    "for i in range(31):\n",
    "    if ((forecast_dev_df[i].dropna() - find_deviation(i))!=0).any():\n",
    "        print('mismatch found')\n",
    "        break\n",
    "else:\n",
    "    print('no mismatch found')"
   ]
  },
  {
   "cell_type": "code",
   "execution_count": 20,
   "metadata": {},
   "outputs": [],
   "source": [
    "with open('data/forecast_dev_df.pkl','wb') as f:\n",
    "    pickle.dump(forecast_dev_df, f)"
   ]
  },
  {
   "cell_type": "markdown",
   "metadata": {},
   "source": [
    "## Location Data"
   ]
  },
  {
   "cell_type": "code",
   "execution_count": 21,
   "metadata": {},
   "outputs": [],
   "source": [
    "with open(\"data/accuweather_cities.json\",\"r\") as f:\n",
    "    response=json.loads(f.read())"
   ]
  },
  {
   "cell_type": "code",
   "execution_count": 22,
   "metadata": {},
   "outputs": [],
   "source": [
    "def city_info_from_json(response_item):\n",
    "    city = response_item['EnglishName']\n",
    "    country = response_item['Country']['EnglishName']\n",
    "    latitude = response_item['GeoPosition']['Latitude']\n",
    "    longitude = response_item['GeoPosition']['Longitude']\n",
    "    elevation = response_item['GeoPosition']['Elevation']['Metric']['Value']\n",
    "    return (city, country, latitude, longitude, elevation)\n"
   ]
  },
  {
   "cell_type": "code",
   "execution_count": 23,
   "metadata": {},
   "outputs": [],
   "source": [
    "all_city_info = [city_info_from_json(item) for item in response]\n",
    "city_df = pd.DataFrame(all_city_info)\n",
    "city_df.columns = ['City', 'Country', 'Latitude', 'Longitude', 'Elevation']\n",
    "city_df = city_df.set_index(['Country','City'])\n",
    "city_df = city_df.sort_index()"
   ]
  },
  {
   "cell_type": "code",
   "execution_count": 24,
   "metadata": {},
   "outputs": [
    {
     "data": {
      "text/html": [
       "<div>\n",
       "<style scoped>\n",
       "    .dataframe tbody tr th:only-of-type {\n",
       "        vertical-align: middle;\n",
       "    }\n",
       "\n",
       "    .dataframe tbody tr th {\n",
       "        vertical-align: top;\n",
       "    }\n",
       "\n",
       "    .dataframe thead th {\n",
       "        text-align: right;\n",
       "    }\n",
       "</style>\n",
       "<table border=\"1\" class=\"dataframe\">\n",
       "  <thead>\n",
       "    <tr style=\"text-align: right;\">\n",
       "      <th></th>\n",
       "      <th></th>\n",
       "      <th>Latitude</th>\n",
       "      <th>Longitude</th>\n",
       "      <th>Elevation</th>\n",
       "    </tr>\n",
       "    <tr>\n",
       "      <th>Country</th>\n",
       "      <th>City</th>\n",
       "      <th></th>\n",
       "      <th></th>\n",
       "      <th></th>\n",
       "    </tr>\n",
       "  </thead>\n",
       "  <tbody>\n",
       "    <tr>\n",
       "      <th>Afghanistan</th>\n",
       "      <th>Kabul</th>\n",
       "      <td>34.531</td>\n",
       "      <td>69.137</td>\n",
       "      <td>1838.0</td>\n",
       "    </tr>\n",
       "    <tr>\n",
       "      <th>Albania</th>\n",
       "      <th>Tirana</th>\n",
       "      <td>41.331</td>\n",
       "      <td>19.820</td>\n",
       "      <td>104.0</td>\n",
       "    </tr>\n",
       "    <tr>\n",
       "      <th>Algeria</th>\n",
       "      <th>Algiers</th>\n",
       "      <td>36.766</td>\n",
       "      <td>3.032</td>\n",
       "      <td>239.0</td>\n",
       "    </tr>\n",
       "    <tr>\n",
       "      <th>American Samoa</th>\n",
       "      <th>Pago Pago</th>\n",
       "      <td>-14.278</td>\n",
       "      <td>-170.703</td>\n",
       "      <td>195.0</td>\n",
       "    </tr>\n",
       "    <tr>\n",
       "      <th>Angola</th>\n",
       "      <th>Luanda</th>\n",
       "      <td>-8.812</td>\n",
       "      <td>13.235</td>\n",
       "      <td>1.0</td>\n",
       "    </tr>\n",
       "  </tbody>\n",
       "</table>\n",
       "</div>"
      ],
      "text/plain": [
       "                          Latitude  Longitude  Elevation\n",
       "Country        City                                     \n",
       "Afghanistan    Kabul        34.531     69.137     1838.0\n",
       "Albania        Tirana       41.331     19.820      104.0\n",
       "Algeria        Algiers      36.766      3.032      239.0\n",
       "American Samoa Pago Pago   -14.278   -170.703      195.0\n",
       "Angola         Luanda       -8.812     13.235        1.0"
      ]
     },
     "execution_count": 24,
     "metadata": {},
     "output_type": "execute_result"
    }
   ],
   "source": [
    "city_df.head()"
   ]
  },
  {
   "cell_type": "code",
   "execution_count": 25,
   "metadata": {},
   "outputs": [],
   "source": [
    "city_gdf = gpd.GeoDataFrame(\n",
    "    city_df, geometry=gpd.points_from_xy(city_df.Longitude, city_df.Latitude), crs=\"EPSG:4326\"\n",
    ")"
   ]
  },
  {
   "cell_type": "code",
   "execution_count": 26,
   "metadata": {},
   "outputs": [
    {
     "data": {
      "text/plain": [
       "Country         City            \n",
       "Afghanistan     Kabul                  POINT (69.13700 34.53100)\n",
       "Albania         Tirana                 POINT (19.82000 41.33100)\n",
       "Algeria         Algiers                 POINT (3.03200 36.76600)\n",
       "American Samoa  Pago Pago           POINT (-170.70300 -14.27800)\n",
       "Angola          Luanda                 POINT (13.23500 -8.81200)\n",
       "                                                ...             \n",
       "Venezuela       Caracas               POINT (-66.89800 10.49600)\n",
       "Vietnam         Hanoi                 POINT (105.70000 20.99900)\n",
       "                Ho Chi Minh City      POINT (106.70200 10.77500)\n",
       "Yemen           Sana'a                 POINT (44.20900 15.36100)\n",
       "Zimbabwe        Harare                POINT (31.05000 -17.82300)\n",
       "Name: geometry, Length: 150, dtype: geometry"
      ]
     },
     "execution_count": 26,
     "metadata": {},
     "output_type": "execute_result"
    }
   ],
   "source": [
    "city_gdf['geometry']"
   ]
  },
  {
   "cell_type": "markdown",
   "metadata": {},
   "source": [
    "## Climate data"
   ]
  },
  {
   "cell_type": "markdown",
   "metadata": {},
   "source": [
    "Import and view climate data. To interepret the data first adopt the colour legend that they use in the data source (https://www.ncbi.nlm.nih.gov/pmc/articles/PMC7431407/)"
   ]
  },
  {
   "cell_type": "code",
   "execution_count": 27,
   "metadata": {},
   "outputs": [
    {
     "data": {
      "text/plain": [
       "<AxesSubplot:>"
      ]
     },
     "execution_count": 27,
     "metadata": {},
     "output_type": "execute_result"
    },
    {
     "data": {
      "image/png": "[encoded data removed]",
      "text/plain": [
       "<Figure size 2000x1600 with 1 Axes>"
      ]
     },
     "metadata": {},
     "output_type": "display_data"
    }
   ],
   "source": [
    "reg = re.compile('\\[(.+)\\]$')\n",
    "\n",
    "with open('data/Beck_KG_V1/legend.txt','r') as f:\n",
    "    rgba_vals = []\n",
    "    rgba_vals.append([1.,1.,1.,1.])\n",
    "    while line:=f.readline():\n",
    "        if index_match := re.search(r'(\\d+):', line): # Match 'num:'\n",
    "            rgb_strings = re.search(reg, line)[1].split() # Match [...] and split list\n",
    "            rgba = list(map(int, rgb_strings))\n",
    "            rgba.append(255)\n",
    "            rgba = [i/255 for i in rgba] \n",
    "            rgba_vals.append(rgba)\n",
    "\n",
    "cmap = ListedColormap(rgba_vals)\n",
    "src = rasterio.open('data/Beck_KG_V1/Beck_KG_V1_present_0p0083.tif')\n",
    "fig, ax = plt.subplots(figsize=(20,16))\n",
    "show(src, cmap = cmap, ax=ax)\n"
   ]
  },
  {
   "cell_type": "markdown",
   "metadata": {},
   "source": [
    "There are a bunch of artefacts on the edges of boundaries, but overall it is a good match to the source image below (it is clear from the dark edges that they use some sort of smoothing when rendering the final image): ![source](data/Köppen-Geiger_Climate_Classification_Map.png)"
   ]
  },
  {
   "cell_type": "markdown",
   "metadata": {},
   "source": [
    "Efficient raster to geopandas, from https://gis.stackexchange.com/questions/384581/raster-to-geopandas"
   ]
  },
  {
   "cell_type": "code",
   "execution_count": 28,
   "metadata": {},
   "outputs": [],
   "source": [
    "raster_data = rxr.open_rasterio(\"data/Beck_KG_V1/Beck_KG_V1_present_0p083.tif\")\n",
    "raster_data.name = \"Climate\"\n",
    "climate_df = raster_data.squeeze().to_dataframe().reset_index()\n",
    "geometry = gpd.points_from_xy(climate_df.x, climate_df.y)\n",
    "climate_gdf = gpd.GeoDataFrame(climate_df, crs=raster_data.rio.crs, geometry=geometry)\n",
    "# climate_gdf = climate_gdf.set_index('geometry')\n",
    "# climate_gdf = climate_gdf['Climate']"
   ]
  },
  {
   "cell_type": "code",
   "execution_count": 29,
   "metadata": {},
   "outputs": [
    {
     "data": {
      "text/plain": [
       "0          POINT (-179.95833 89.95833)\n",
       "1          POINT (-179.87500 89.95833)\n",
       "2          POINT (-179.79167 89.95833)\n",
       "3          POINT (-179.70833 89.95833)\n",
       "4          POINT (-179.62500 89.95833)\n",
       "                      ...             \n",
       "9331195    POINT (179.62500 -89.95833)\n",
       "9331196    POINT (179.70833 -89.95833)\n",
       "9331197    POINT (179.79167 -89.95833)\n",
       "9331198    POINT (179.87500 -89.95833)\n",
       "9331199    POINT (179.95833 -89.95833)\n",
       "Name: geometry, Length: 9331200, dtype: geometry"
      ]
     },
     "execution_count": 29,
     "metadata": {},
     "output_type": "execute_result"
    }
   ],
   "source": [
    "climate_gdf.geometry"
   ]
  },
  {
   "cell_type": "code",
   "execution_count": 30,
   "metadata": {},
   "outputs": [
    {
     "name": "stderr",
     "output_type": "stream",
     "text": [
      "c:\\ProgramData\\Anaconda3\\lib\\site-packages\\geopandas\\array.py:344: UserWarning: Geometry is in a geographic CRS. Results from 'sjoin_nearest' are likely incorrect. Use 'GeoSeries.to_crs()' to re-project geometries to a projected CRS before this operation.\n",
      "\n",
      "  warnings.warn(\n"
     ]
    },
    {
     "data": {
      "text/html": [
       "<div>\n",
       "<style scoped>\n",
       "    .dataframe tbody tr th:only-of-type {\n",
       "        vertical-align: middle;\n",
       "    }\n",
       "\n",
       "    .dataframe tbody tr th {\n",
       "        vertical-align: top;\n",
       "    }\n",
       "\n",
       "    .dataframe thead th {\n",
       "        text-align: right;\n",
       "    }\n",
       "</style>\n",
       "<table border=\"1\" class=\"dataframe\">\n",
       "  <thead>\n",
       "    <tr style=\"text-align: right;\">\n",
       "      <th></th>\n",
       "      <th></th>\n",
       "      <th>Climate</th>\n",
       "      <th>geometry</th>\n",
       "    </tr>\n",
       "    <tr>\n",
       "      <th>Country</th>\n",
       "      <th>City</th>\n",
       "      <th></th>\n",
       "      <th></th>\n",
       "    </tr>\n",
       "  </thead>\n",
       "  <tbody>\n",
       "    <tr>\n",
       "      <th>Afghanistan</th>\n",
       "      <th>Kabul</th>\n",
       "      <td>17</td>\n",
       "      <td>POINT (69.13700 34.53100)</td>\n",
       "    </tr>\n",
       "    <tr>\n",
       "      <th>Albania</th>\n",
       "      <th>Tirana</th>\n",
       "      <td>8</td>\n",
       "      <td>POINT (19.82000 41.33100)</td>\n",
       "    </tr>\n",
       "    <tr>\n",
       "      <th>Algeria</th>\n",
       "      <th>Algiers</th>\n",
       "      <td>8</td>\n",
       "      <td>POINT (3.03200 36.76600)</td>\n",
       "    </tr>\n",
       "    <tr>\n",
       "      <th>American Samoa</th>\n",
       "      <th>Pago Pago</th>\n",
       "      <td>1</td>\n",
       "      <td>POINT (-170.70300 -14.27800)</td>\n",
       "    </tr>\n",
       "    <tr>\n",
       "      <th>Angola</th>\n",
       "      <th>Luanda</th>\n",
       "      <td>6</td>\n",
       "      <td>POINT (13.23500 -8.81200)</td>\n",
       "    </tr>\n",
       "  </tbody>\n",
       "</table>\n",
       "</div>"
      ],
      "text/plain": [
       "                          Climate                      geometry\n",
       "Country        City                                            \n",
       "Afghanistan    Kabul           17     POINT (69.13700 34.53100)\n",
       "Albania        Tirana           8     POINT (19.82000 41.33100)\n",
       "Algeria        Algiers          8      POINT (3.03200 36.76600)\n",
       "American Samoa Pago Pago        1  POINT (-170.70300 -14.27800)\n",
       "Angola         Luanda           6     POINT (13.23500 -8.81200)"
      ]
     },
     "execution_count": 30,
     "metadata": {},
     "output_type": "execute_result"
    }
   ],
   "source": [
    "city_climate_gdf = gpd.sjoin_nearest(city_gdf, climate_gdf)[['Climate','geometry']]\n",
    "city_climate_gdf.head()"
   ]
  },
  {
   "cell_type": "code",
   "execution_count": 31,
   "metadata": {},
   "outputs": [
    {
     "data": {
      "text/html": [
       "<div>\n",
       "<style scoped>\n",
       "    .dataframe tbody tr th:only-of-type {\n",
       "        vertical-align: middle;\n",
       "    }\n",
       "\n",
       "    .dataframe tbody tr th {\n",
       "        vertical-align: top;\n",
       "    }\n",
       "\n",
       "    .dataframe thead th {\n",
       "        text-align: right;\n",
       "    }\n",
       "</style>\n",
       "<table border=\"1\" class=\"dataframe\">\n",
       "  <thead>\n",
       "    <tr style=\"text-align: right;\">\n",
       "      <th></th>\n",
       "      <th>Climate</th>\n",
       "      <th>geometry</th>\n",
       "    </tr>\n",
       "    <tr>\n",
       "      <th>City</th>\n",
       "      <th></th>\n",
       "      <th></th>\n",
       "    </tr>\n",
       "  </thead>\n",
       "  <tbody>\n",
       "    <tr>\n",
       "      <th>Brasília</th>\n",
       "      <td>3</td>\n",
       "      <td>POINT (-47.88800 -15.79400)</td>\n",
       "    </tr>\n",
       "    <tr>\n",
       "      <th>Manaus</th>\n",
       "      <td>1</td>\n",
       "      <td>POINT (-60.02300 -3.13500)</td>\n",
       "    </tr>\n",
       "    <tr>\n",
       "      <th>Recife</th>\n",
       "      <td>2</td>\n",
       "      <td>POINT (-34.88900 -8.06300)</td>\n",
       "    </tr>\n",
       "    <tr>\n",
       "      <th>Rio de Janeiro</th>\n",
       "      <td>3</td>\n",
       "      <td>POINT (-43.22800 -22.87700)</td>\n",
       "    </tr>\n",
       "    <tr>\n",
       "      <th>São Paulo</th>\n",
       "      <td>14</td>\n",
       "      <td>POINT (-46.57000 -23.56700)</td>\n",
       "    </tr>\n",
       "  </tbody>\n",
       "</table>\n",
       "</div>"
      ],
      "text/plain": [
       "                Climate                     geometry\n",
       "City                                                \n",
       "Brasília              3  POINT (-47.88800 -15.79400)\n",
       "Manaus                1   POINT (-60.02300 -3.13500)\n",
       "Recife                2   POINT (-34.88900 -8.06300)\n",
       "Rio de Janeiro        3  POINT (-43.22800 -22.87700)\n",
       "São Paulo            14  POINT (-46.57000 -23.56700)"
      ]
     },
     "execution_count": 31,
     "metadata": {},
     "output_type": "execute_result"
    }
   ],
   "source": [
    "city_climate_gdf.loc['Brazil']"
   ]
  },
  {
   "cell_type": "markdown",
   "metadata": {},
   "source": [
    "### Adding economic data\n",
    "\n",
    "We add economic data for GDP per capita (purchasing power parity), from the ![CIA world factbook](https://www.cia.gov/the-world-factbook/field/real-gdp-per-capita/country-comparison/)"
   ]
  },
  {
   "cell_type": "code",
   "execution_count": 32,
   "metadata": {},
   "outputs": [],
   "source": [
    "with open('data/PPP.csv','r') as f:\n",
    "    country_ppp_df = pd.read_csv(f, sep=';')"
   ]
  },
  {
   "cell_type": "code",
   "execution_count": 33,
   "metadata": {},
   "outputs": [
    {
     "data": {
      "text/html": [
       "<div>\n",
       "<style scoped>\n",
       "    .dataframe tbody tr th:only-of-type {\n",
       "        vertical-align: middle;\n",
       "    }\n",
       "\n",
       "    .dataframe tbody tr th {\n",
       "        vertical-align: top;\n",
       "    }\n",
       "\n",
       "    .dataframe thead th {\n",
       "        text-align: right;\n",
       "    }\n",
       "</style>\n",
       "<table border=\"1\" class=\"dataframe\">\n",
       "  <thead>\n",
       "    <tr style=\"text-align: right;\">\n",
       "      <th></th>\n",
       "      <th>name</th>\n",
       "      <th>slug</th>\n",
       "      <th>value</th>\n",
       "      <th>date_of_information</th>\n",
       "      <th>ranking</th>\n",
       "      <th>region</th>\n",
       "    </tr>\n",
       "  </thead>\n",
       "  <tbody>\n",
       "    <tr>\n",
       "      <th>0</th>\n",
       "      <td>Liechtenstein</td>\n",
       "      <td>liechtenstein</td>\n",
       "      <td>$139,100</td>\n",
       "      <td>2009</td>\n",
       "      <td>1</td>\n",
       "      <td>Europe</td>\n",
       "    </tr>\n",
       "    <tr>\n",
       "      <th>1</th>\n",
       "      <td>Monaco</td>\n",
       "      <td>monaco</td>\n",
       "      <td>$115,700</td>\n",
       "      <td>2015</td>\n",
       "      <td>2</td>\n",
       "      <td>Europe</td>\n",
       "    </tr>\n",
       "    <tr>\n",
       "      <th>2</th>\n",
       "      <td>Luxembourg</td>\n",
       "      <td>luxembourg</td>\n",
       "      <td>$115,700</td>\n",
       "      <td>2021</td>\n",
       "      <td>3</td>\n",
       "      <td>Europe</td>\n",
       "    </tr>\n",
       "    <tr>\n",
       "      <th>3</th>\n",
       "      <td>Singapore</td>\n",
       "      <td>singapore</td>\n",
       "      <td>$106,000</td>\n",
       "      <td>2021</td>\n",
       "      <td>4</td>\n",
       "      <td>East and Southeast Asia</td>\n",
       "    </tr>\n",
       "    <tr>\n",
       "      <th>4</th>\n",
       "      <td>Ireland</td>\n",
       "      <td>ireland</td>\n",
       "      <td>$102,500</td>\n",
       "      <td>2021</td>\n",
       "      <td>5</td>\n",
       "      <td>Europe</td>\n",
       "    </tr>\n",
       "  </tbody>\n",
       "</table>\n",
       "</div>"
      ],
      "text/plain": [
       "            name           slug     value date_of_information  ranking  \\\n",
       "0  Liechtenstein  liechtenstein  $139,100                2009        1   \n",
       "1         Monaco         monaco  $115,700                2015        2   \n",
       "2     Luxembourg     luxembourg  $115,700                2021        3   \n",
       "3      Singapore      singapore  $106,000                2021        4   \n",
       "4        Ireland        ireland  $102,500                2021        5   \n",
       "\n",
       "                    region  \n",
       "0                   Europe  \n",
       "1                   Europe  \n",
       "2                   Europe  \n",
       "3  East and Southeast Asia  \n",
       "4                   Europe  "
      ]
     },
     "execution_count": 33,
     "metadata": {},
     "output_type": "execute_result"
    }
   ],
   "source": [
    "country_ppp_df.head()"
   ]
  },
  {
   "cell_type": "code",
   "execution_count": 34,
   "metadata": {},
   "outputs": [],
   "source": [
    "country_ppp_df = country_ppp_df.set_index('name')\n",
    "country_ppp_series = country_ppp_df['value']\n",
    "country_ppp_series.index.name = 'Country'"
   ]
  },
  {
   "cell_type": "code",
   "execution_count": 35,
   "metadata": {},
   "outputs": [],
   "source": [
    "city_climate_df = city_climate_gdf.reset_index(level=1) # Keep only countries in index\n",
    "city_info_df = city_climate_df.merge(country_ppp_series, left_index=True, right_index=True, how='left')"
   ]
  },
  {
   "cell_type": "markdown",
   "metadata": {},
   "source": [
    "Some values in the city_climate_df are not present in the PPP DF. This is likely due to naming ambiguity. It is fastest to just fix this by manually inspecting the dataset."
   ]
  },
  {
   "cell_type": "code",
   "execution_count": 36,
   "metadata": {},
   "outputs": [
    {
     "data": {
      "text/html": [
       "<div>\n",
       "<style scoped>\n",
       "    .dataframe tbody tr th:only-of-type {\n",
       "        vertical-align: middle;\n",
       "    }\n",
       "\n",
       "    .dataframe tbody tr th {\n",
       "        vertical-align: top;\n",
       "    }\n",
       "\n",
       "    .dataframe thead th {\n",
       "        text-align: right;\n",
       "    }\n",
       "</style>\n",
       "<table border=\"1\" class=\"dataframe\">\n",
       "  <thead>\n",
       "    <tr style=\"text-align: right;\">\n",
       "      <th></th>\n",
       "      <th>City</th>\n",
       "      <th>Climate</th>\n",
       "      <th>geometry</th>\n",
       "      <th>value</th>\n",
       "    </tr>\n",
       "    <tr>\n",
       "      <th>Country</th>\n",
       "      <th></th>\n",
       "      <th></th>\n",
       "      <th></th>\n",
       "      <th></th>\n",
       "    </tr>\n",
       "  </thead>\n",
       "  <tbody>\n",
       "    <tr>\n",
       "      <th>Cote D'Ivoire</th>\n",
       "      <td>Abidjan</td>\n",
       "      <td>2</td>\n",
       "      <td>POINT (-4.02600 5.32300)</td>\n",
       "      <td>NaN</td>\n",
       "    </tr>\n",
       "    <tr>\n",
       "      <th>Democratic Republic of the Congo</th>\n",
       "      <td>Kinshasa</td>\n",
       "      <td>3</td>\n",
       "      <td>POINT (15.29800 -4.31600)</td>\n",
       "      <td>NaN</td>\n",
       "    </tr>\n",
       "    <tr>\n",
       "      <th>Myanmar</th>\n",
       "      <td>Yangon</td>\n",
       "      <td>2</td>\n",
       "      <td>POINT (96.15000 16.79800)</td>\n",
       "      <td>NaN</td>\n",
       "    </tr>\n",
       "    <tr>\n",
       "      <th>North Korea</th>\n",
       "      <td>Pyongyang</td>\n",
       "      <td>21</td>\n",
       "      <td>POINT (125.77600 39.01400)</td>\n",
       "      <td>NaN</td>\n",
       "    </tr>\n",
       "    <tr>\n",
       "      <th>South Korea</th>\n",
       "      <td>Busan</td>\n",
       "      <td>14</td>\n",
       "      <td>POINT (129.10100 35.21500)</td>\n",
       "      <td>NaN</td>\n",
       "    </tr>\n",
       "    <tr>\n",
       "      <th>South Korea</th>\n",
       "      <td>Seoul</td>\n",
       "      <td>21</td>\n",
       "      <td>POINT (126.97000 37.53700)</td>\n",
       "      <td>NaN</td>\n",
       "    </tr>\n",
       "    <tr>\n",
       "      <th>Turkey</th>\n",
       "      <td>Istanbul</td>\n",
       "      <td>8</td>\n",
       "      <td>POINT (28.95800 41.01100)</td>\n",
       "      <td>NaN</td>\n",
       "    </tr>\n",
       "  </tbody>\n",
       "</table>\n",
       "</div>"
      ],
      "text/plain": [
       "                                       City  Climate  \\\n",
       "Country                                                \n",
       "Cote D'Ivoire                       Abidjan        2   \n",
       "Democratic Republic of the Congo   Kinshasa        3   \n",
       "Myanmar                              Yangon        2   \n",
       "North Korea                       Pyongyang       21   \n",
       "South Korea                           Busan       14   \n",
       "South Korea                           Seoul       21   \n",
       "Turkey                             Istanbul        8   \n",
       "\n",
       "                                                    geometry value  \n",
       "Country                                                             \n",
       "Cote D'Ivoire                       POINT (-4.02600 5.32300)   NaN  \n",
       "Democratic Republic of the Congo   POINT (15.29800 -4.31600)   NaN  \n",
       "Myanmar                            POINT (96.15000 16.79800)   NaN  \n",
       "North Korea                       POINT (125.77600 39.01400)   NaN  \n",
       "South Korea                       POINT (129.10100 35.21500)   NaN  \n",
       "South Korea                       POINT (126.97000 37.53700)   NaN  \n",
       "Turkey                             POINT (28.95800 41.01100)   NaN  "
      ]
     },
     "execution_count": 36,
     "metadata": {},
     "output_type": "execute_result"
    }
   ],
   "source": [
    "city_info_df[city_info_df.isna()['value']]"
   ]
  },
  {
   "cell_type": "markdown",
   "metadata": {},
   "source": [
    "Eyeballing the PPP.csv file, we find the following substitutions\n",
    "\n",
    "- Cote D'Ivoire -> Cote d'Ivoire\n",
    "- Democratic Republic of the Congo -> Congo, Republic of the\n",
    "- Myanmar -> Burma\n",
    "- North Korea -> Korea, North\n",
    "- South Korea -> Korea, South\n",
    "- Turkey -> Turkey (Turkiye)\n",
    "\n",
    "We can manually fix the data"
   ]
  },
  {
   "cell_type": "code",
   "execution_count": 37,
   "metadata": {},
   "outputs": [],
   "source": [
    "missing_list =[\"Cote d'Ivoire\", \"Congo, Republic of the\", \"Burma\", \"Korea, North\", \"Korea, South\", \"Korea, South\", \"Turkey (Turkiye)\"]\n",
    "\n",
    "substitutions = country_ppp_series[missing_list].to_numpy()"
   ]
  },
  {
   "cell_type": "code",
   "execution_count": 38,
   "metadata": {},
   "outputs": [
    {
     "data": {
      "text/plain": [
       "Country\n",
       "Cote D'Ivoire                        $5,300\n",
       "Democratic Republic of the Congo     $3,200\n",
       "Myanmar                              $4,000\n",
       "North Korea                          $1,700\n",
       "South Korea                         $44,200\n",
       "South Korea                         $44,200\n",
       "Turkey                              $31,500\n",
       "Name: value, dtype: object"
      ]
     },
     "execution_count": 38,
     "metadata": {},
     "output_type": "execute_result"
    }
   ],
   "source": [
    "country_ppp_series[missing_list].to_numpy()\n",
    "sub_locations = city_info_df[city_info_df.isna()['value']].index.drop_duplicates()\n",
    "city_info_df.loc[sub_locations,'value'] = substitutions\n",
    "city_info_df.loc[sub_locations,'value']"
   ]
  },
  {
   "cell_type": "code",
   "execution_count": 39,
   "metadata": {},
   "outputs": [],
   "source": [
    "city_info_df['value'] = city_info_df['value'].replace('[\\$,]', '', regex=True).astype(float) #dollar to float\n",
    "city_info_df.columns = ['Location', 'Climate', 'Lat/Lon', 'GDP per capita (PPP)'] # clearer names\n",
    "with open('data/city_info.csv','w') as f:\n",
    "    city_info_df.to_csv(f)"
   ]
  }
 ],
 "metadata": {
  "kernelspec": {
   "display_name": "base",
   "language": "python",
   "name": "python3"
  },
  "language_info": {
   "codemirror_mode": {
    "name": "ipython",
    "version": 3
   },
   "file_extension": ".py",
   "mimetype": "text/x-python",
   "name": "python",
   "nbconvert_exporter": "python",
   "pygments_lexer": "ipython3",
   "version": "3.8.18"
  },
  "orig_nbformat": 4
 },
 "nbformat": 4,
 "nbformat_minor": 2
}
